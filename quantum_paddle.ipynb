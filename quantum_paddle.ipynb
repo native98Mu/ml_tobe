{
 "metadata": {
  "language_info": {
   "codemirror_mode": {
    "name": "ipython",
    "version": 3
   },
   "file_extension": ".py",
   "mimetype": "text/x-python",
   "name": "python",
   "nbconvert_exporter": "python",
   "pygments_lexer": "ipython3",
   "version": "3.8.5-final"
  },
  "orig_nbformat": 2,
  "kernelspec": {
   "name": "python385jvsc74a57bd0e5d5a545d47a452400ed0f023be4625769e773074f6a65de0103e9cc8585fc80",
   "display_name": "Python 3.8.5 64-bit ('paddle_quantum_env': conda)"
  },
  "metadata": {
   "interpreter": {
    "hash": "31c970e405e610bdedb632abeb9b9ba8be79439cdb45a2b57a3efd755a4ae151"
   }
  }
 },
 "nbformat": 4,
 "nbformat_minor": 2,
 "cells": [
  {
   "cell_type": "code",
   "execution_count": 6,
   "metadata": {},
   "outputs": [
    {
     "output_type": "stream",
     "name": "stdout",
     "text": [
      "<paddle_quantum.circuit.UAnsatz object at 0x7fa248ba1bd0>\n",
      "量子门的矩阵表达式为：\n",
      "[[ 6.123234e-17+0.j -6.123234e-17-1.j]\n",
      " [ 6.123234e-17-1.j  6.123234e-17+0.j]]\n",
      "/usr/local/anaconda3/envs/paddle_quantum_env/lib/python3.7/site-packages/ipykernel/ipkernel.py:287: DeprecationWarning: `should_run_async` will not call `transform_cell` automatically in the future. Please pass the result to `transformed_cell` argument and any exception that happen during thetransform in `preprocessing_exc_tuple` in IPython 7.17 and above.\n",
      "  and should_run_async(code)\n",
      "/usr/local/anaconda3/envs/paddle_quantum_env/lib/python3.7/site-packages/paddle/fluid/framework.py:687: DeprecationWarning: `np.bool` is a deprecated alias for the builtin `bool`. To silence this warning, use `bool` by itself. Doing this will not modify any behavior and is safe. If you specifically wanted the numpy scalar type, use `np.bool_` here.\n",
      "Deprecated in NumPy 1.20; for more details and guidance: https://numpy.org/devdocs/release/1.20.0-notes.html#deprecations\n",
      "  elif dtype == np.bool:\n",
      "/usr/local/anaconda3/envs/paddle_quantum_env/lib/python3.7/site-packages/paddle/tensor/creation.py:143: DeprecationWarning: `np.object` is a deprecated alias for the builtin `object`. To silence this warning, use `object` by itself. Doing this will not modify any behavior and is safe. \n",
      "Deprecated in NumPy 1.20; for more details and guidance: https://numpy.org/devdocs/release/1.20.0-notes.html#deprecations\n",
      "  if data.dtype == np.object:\n"
     ]
    }
   ],
   "source": [
    "import numpy as np\n",
    "import paddle\n",
    "from paddle_quantum.circuit import UAnsatz\n",
    "\n",
    "# 设置角度参数 theta = pi\n",
    "theta = np.array([np.pi])\n",
    "    \n",
    "# 我们需要将 Numpy array 转换成 Paddle 中的 Tensor\n",
    "theta = paddle.to_tensor(theta)\n",
    "\n",
    "# 设置计算所需的量子比特数量\n",
    "num_qubits = 1\n",
    "\n",
    "# 初始化我们的单比特量子电路\n",
    "cir = UAnsatz(num_qubits)\n",
    "\n",
    "# 在第一个量子比特(第0号量子比特)的位置上施加一个 Rx 旋转门， 角度为 pi\n",
    "which_qubit = 0\n",
    "cir.rx(theta, which_qubit)\n",
    "\n",
    "# 打印出这个量子门\n",
    "# 转换成 numpy \n",
    "print('量子门的矩阵表达式为：')\n",
    "print(cir.U.numpy())\n"
   ]
  },
  {
   "cell_type": "code",
   "execution_count": 9,
   "metadata": {},
   "outputs": [
    {
     "output_type": "stream",
     "name": "stdout",
     "text": [
      "量子门的矩阵表达式为：\n",
      "[[ 6.123234e-17+0.j -1.000000e+00+0.j]\n",
      " [ 1.000000e+00+0.j  6.123234e-17+0.j]]\n",
      "/usr/local/anaconda3/envs/paddle_quantum_env/lib/python3.7/site-packages/paddle/fluid/framework.py:687: DeprecationWarning: `np.bool` is a deprecated alias for the builtin `bool`. To silence this warning, use `bool` by itself. Doing this will not modify any behavior and is safe. If you specifically wanted the numpy scalar type, use `np.bool_` here.\n",
      "Deprecated in NumPy 1.20; for more details and guidance: https://numpy.org/devdocs/release/1.20.0-notes.html#deprecations\n",
      "  elif dtype == np.bool:\n",
      "/usr/local/anaconda3/envs/paddle_quantum_env/lib/python3.7/site-packages/paddle/tensor/creation.py:143: DeprecationWarning: `np.object` is a deprecated alias for the builtin `object`. To silence this warning, use `object` by itself. Doing this will not modify any behavior and is safe. \n",
      "Deprecated in NumPy 1.20; for more details and guidance: https://numpy.org/devdocs/release/1.20.0-notes.html#deprecations\n",
      "  if data.dtype == np.object:\n"
     ]
    }
   ],
   "source": [
    "#y gate\n",
    "import numpy as np\n",
    "import paddle\n",
    "from paddle_quantum.circuit import UAnsatz\n",
    "\n",
    "# 设置角度参数 theta = pi\n",
    "theta = np.array([np.pi])\n",
    "    \n",
    "# 我们需要将 Numpy array 转换成 Paddle 中的 Tensor\n",
    "theta = paddle.to_tensor(theta)\n",
    "\n",
    "# 设置计算所需的量子比特数量\n",
    "num_qubits = 1\n",
    "\n",
    "# 初始化我们的单比特量子电路\n",
    "cir = UAnsatz(num_qubits)\n",
    "\n",
    "# 在第一个量子比特(第0号量子比特)的位置上施加一个 Rx 旋转门， 角度为 pi\n",
    "which_qubit = 0\n",
    "cir.ry(theta, which_qubit)\n",
    "# 打印出这个量子门\n",
    "# 转换成 numpy \n",
    "print('量子门的矩阵表达式为：')\n",
    "print(cir.U.numpy())"
   ]
  },
  {
   "cell_type": "code",
   "execution_count": 5,
   "metadata": {},
   "outputs": [
    {
     "output_type": "stream",
     "name": "stdout",
     "text": [
      "[1 2 3]\n",
      "[3.14159265]\n",
      "/usr/local/anaconda3/envs/paddle_quantum_env/lib/python3.7/site-packages/ipykernel/ipkernel.py:287: DeprecationWarning: `should_run_async` will not call `transform_cell` automatically in the future. Please pass the result to `transformed_cell` argument and any exception that happen during thetransform in `preprocessing_exc_tuple` in IPython 7.17 and above.\n",
      "  and should_run_async(code)\n"
     ]
    }
   ],
   "source": [
    "import numpy as np\n",
    "c = np.array([1,2,3])\n",
    "print(c)\n",
    "theta = np.array([np.pi])\n",
    "print(theta)"
   ]
  },
  {
   "cell_type": "code",
   "execution_count": 18,
   "metadata": {},
   "outputs": [
    {
     "output_type": "stream",
     "name": "stdout",
     "text": [
      "origin: [[1.+0.j 0.+0.j 0.+0.j 0.+0.j]\n",
      " [0.+0.j 1.+0.j 0.+0.j 0.+0.j]\n",
      " [0.+0.j 0.+0.j 1.+0.j 0.+0.j]\n",
      " [0.+0.j 0.+0.j 0.+0.j 1.+0.j]]\n",
      "ro [[ 6.123234e-17  0.000000e+00 -1.000000e+00  0.000000e+00]\n",
      " [ 0.000000e+00  6.123234e-17  0.000000e+00 -1.000000e+00]\n",
      " [ 1.000000e+00  0.000000e+00  6.123234e-17  0.000000e+00]\n",
      " [ 0.000000e+00  1.000000e+00  0.000000e+00  6.123234e-17]]\n",
      "r1 [[ 3.74939946e-33 -6.12323400e-17 -6.12323400e-17  1.00000000e+00]\n",
      " [ 6.12323400e-17  3.74939946e-33 -1.00000000e+00 -6.12323400e-17]\n",
      " [ 6.12323400e-17 -1.00000000e+00  3.74939946e-33 -6.12323400e-17]\n",
      " [ 1.00000000e+00  6.12323400e-17  6.12323400e-17  3.74939946e-33]]\n",
      "cn [[ 3.74939946e-33 -6.12323400e-17 -6.12323400e-17  1.00000000e+00]\n",
      " [ 6.12323400e-17  3.74939946e-33 -1.00000000e+00 -6.12323400e-17]\n",
      " [ 1.00000000e+00  6.12323400e-17  6.12323400e-17  3.74939946e-33]\n",
      " [ 6.12323400e-17 -1.00000000e+00  3.74939946e-33 -6.12323400e-17]]\n",
      "ro [[-1.000000e+00 -6.123234e-17 -6.123234e-17  6.123234e-17]\n",
      " [-6.123234e-17  1.000000e+00 -6.123234e-17  6.123234e-17]\n",
      " [ 6.123234e-17 -6.123234e-17 -6.123234e-17  1.000000e+00]\n",
      " [ 6.123234e-17 -6.123234e-17 -1.000000e+00 -6.123234e-17]]\n",
      "r1 [[ 0.0000000e+00 -1.0000000e+00  6.1232340e-17 -6.1232340e-17]\n",
      " [-1.0000000e+00  0.0000000e+00 -6.1232340e-17  6.1232340e-17]\n",
      " [-6.1232340e-17  6.1232340e-17  1.0000000e+00  1.2246468e-16]\n",
      " [ 6.1232340e-17 -6.1232340e-17 -1.2246468e-16  1.0000000e+00]]\n",
      "图中量子神经网络 U(theta=pi) 的矩阵表达式是:\n",
      "[[ 0.0000000e+00 -1.0000000e+00  6.1232340e-17 -6.1232340e-17]\n",
      " [-1.0000000e+00  0.0000000e+00 -6.1232340e-17  6.1232340e-17]\n",
      " [-6.1232340e-17  6.1232340e-17  1.0000000e+00  1.2246468e-16]\n",
      " [ 6.1232340e-17 -6.1232340e-17 -1.2246468e-16  1.0000000e+00]]\n",
      "/usr/local/anaconda3/envs/paddle_quantum_env/lib/python3.7/site-packages/ipykernel/ipkernel.py:287: DeprecationWarning: `should_run_async` will not call `transform_cell` automatically in the future. Please pass the result to `transformed_cell` argument and any exception that happen during thetransform in `preprocessing_exc_tuple` in IPython 7.17 and above.\n",
      "  and should_run_async(code)\n",
      "/usr/local/anaconda3/envs/paddle_quantum_env/lib/python3.7/site-packages/paddle/fluid/framework.py:687: DeprecationWarning: `np.bool` is a deprecated alias for the builtin `bool`. To silence this warning, use `bool` by itself. Doing this will not modify any behavior and is safe. If you specifically wanted the numpy scalar type, use `np.bool_` here.\n",
      "Deprecated in NumPy 1.20; for more details and guidance: https://numpy.org/devdocs/release/1.20.0-notes.html#deprecations\n",
      "  elif dtype == np.bool:\n",
      "/usr/local/anaconda3/envs/paddle_quantum_env/lib/python3.7/site-packages/paddle/tensor/creation.py:143: DeprecationWarning: `np.object` is a deprecated alias for the builtin `object`. To silence this warning, use `object` by itself. Doing this will not modify any behavior and is safe. \n",
      "Deprecated in NumPy 1.20; for more details and guidance: https://numpy.org/devdocs/release/1.20.0-notes.html#deprecations\n",
      "  if data.dtype == np.object:\n"
     ]
    }
   ],
   "source": [
    "import numpy as np\n",
    "import paddle\n",
    "from paddle_quantum.circuit import UAnsatz\n",
    "\n",
    "# 设置角度参数 theta \n",
    "theta = np.full([4], np.pi)\n",
    "    \n",
    "# 我们需要将 Numpy array 转换成 Paddle 中的 Tensor\n",
    "theta = paddle.to_tensor(theta)\n",
    "\n",
    "# 初始化量子电路\n",
    "num_qubits = 2\n",
    "cir = UAnsatz(num_qubits)\n",
    "print('origin:',cir.U.numpy())\n",
    "# 添加单比特旋转门\n",
    "cir.ry(theta[0], 0)\n",
    "print('ro',cir.U.numpy().real)\n",
    "cir.ry(theta[1], 1)\n",
    "print('r1',cir.U.numpy().real)\n",
    "# 添加两比特门\n",
    "cir.cnot([0, 1])\n",
    "print('cn',cir.U.numpy().real)\n",
    "# 添加单比特旋转门\n",
    "cir.ry(theta[2], 0)\n",
    "print('ro',cir.U.numpy().real)\n",
    "cir.ry(theta[3], 1)\n",
    "print('r1',cir.U.numpy().real)\n",
    "print('图中量子神经网络 U(theta=pi) 的矩阵表达式是:')\n",
    "print(cir.U.numpy().real)"
   ]
  },
  {
   "cell_type": "code",
   "execution_count": null,
   "metadata": {},
   "outputs": [],
   "source": [
    "def psi_norm(weights):\n",
    "    \"\"\"return normalization <psi|psi>, where |psi> = A|x>\"\"\""
   ]
  },
  {
   "cell_type": "code",
   "execution_count": null,
   "metadata": {},
   "outputs": [],
   "source": [
    "def cost_loc(weights):\n",
    "    \"\"\"Local cost function\"\"\"\n",
    "    pass"
   ]
  }
 ]
}