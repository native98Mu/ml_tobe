{
 "metadata": {
  "language_info": {
   "codemirror_mode": {
    "name": "ipython",
    "version": 3
   },
   "file_extension": ".py",
   "mimetype": "text/x-python",
   "name": "python",
   "nbconvert_exporter": "python",
   "pygments_lexer": "ipython3",
   "version": "3.7.10"
  },
  "orig_nbformat": 2,
  "kernelspec": {
   "name": "python3710jvsc74a57bd0e5d5a545d47a452400ed0f023be4625769e773074f6a65de0103e9cc8585fc80",
   "display_name": "Python 3.7.10 64-bit ('paddle_quantum_env': conda)"
  }
 },
 "nbformat": 4,
 "nbformat_minor": 2,
 "cells": [
  {
   "source": [
    "# python基础语法01\n",
    "## 数据类型\n",
    "> 整型，浮点型，字符串型，布尔型，复数型  \n",
    "> 算术运算  \n",
    "> 类型转换  \n",
    "> 占位符格式化输出   \n",
    "> 分支结构   \n",
    "> 循环结构\n"
   ],
   "cell_type": "markdown",
   "metadata": {}
  },
  {
   "source": [
    "\"\"\"\n",
    "变量保存数据，并用于算数计算\n",
    "\"\"\"\n",
    "a = 23\n",
    "b = 234\n",
    "print(b/a)\n",
    "print(b//a) #取商的整数部分\n",
    "print(b%a)\n",
    "print(b*a)\n",
    "print(3**2) #平方"
   ],
   "cell_type": "code",
   "metadata": {},
   "execution_count": 11,
   "outputs": [
    {
     "output_type": "stream",
     "name": "stdout",
     "text": [
      "10.173913043478262\n10\n4\n5382\n9\n"
     ]
    }
   ]
  },
  {
   "source": [],
   "cell_type": "markdown",
   "metadata": {}
  },
  {
   "cell_type": "code",
   "execution_count": 12,
   "metadata": {},
   "outputs": [
    {
     "output_type": "error",
     "ename": "ValueError",
     "evalue": "invalid literal for int() with base 10: ''",
     "traceback": [
      "\u001b[1;31m---------------------------------------------------------------------------\u001b[0m",
      "\u001b[1;31mValueError\u001b[0m                                Traceback (most recent call last)",
      "\u001b[1;32m<ipython-input-12-68bee2f9321f>\u001b[0m in \u001b[0;36m<module>\u001b[1;34m\u001b[0m\n\u001b[0;32m      5\u001b[0m \u001b[0m占位符格式化输出\u001b[0m\u001b[1;33m\u001b[0m\u001b[1;33m\u001b[0m\u001b[0m\n\u001b[0;32m      6\u001b[0m \"\"\"\n\u001b[1;32m----> 7\u001b[1;33m \u001b[0mc\u001b[0m \u001b[1;33m=\u001b[0m \u001b[0mint\u001b[0m\u001b[1;33m(\u001b[0m\u001b[0minput\u001b[0m\u001b[1;33m(\u001b[0m\u001b[1;34m\"c = \"\u001b[0m\u001b[1;33m)\u001b[0m\u001b[1;33m)\u001b[0m\u001b[1;33m\u001b[0m\u001b[1;33m\u001b[0m\u001b[0m\n\u001b[0m\u001b[0;32m      8\u001b[0m \u001b[0md\u001b[0m \u001b[1;33m=\u001b[0m \u001b[0mint\u001b[0m\u001b[1;33m(\u001b[0m\u001b[0minput\u001b[0m\u001b[1;33m(\u001b[0m\u001b[1;34m\"d = \"\u001b[0m\u001b[1;33m)\u001b[0m\u001b[1;33m)\u001b[0m\u001b[1;33m\u001b[0m\u001b[1;33m\u001b[0m\u001b[0m\n\u001b[0;32m      9\u001b[0m \u001b[1;33m\u001b[0m\u001b[0m\n",
      "\u001b[1;31mValueError\u001b[0m: invalid literal for int() with base 10: ''"
     ]
    }
   ],
   "source": [
    "\"\"\"\n",
    "input()函数输入\n",
    "类型转换\n",
    "查看变量类型\n",
    "占位符格式化输出\n",
    "\"\"\"\n",
    "c = int(input(\"c = \"))\n",
    "d = int(input(\"d = \"))\n",
    "\n",
    "print('%d + %d = %d' % (c,d,c+d))\n",
    "print('%d / %d = %f' % (c,d,c/d)) #浮点数占位符\n",
    "print('%d %% %d = %d' % (c,d,c%d)) #转义字符\n",
    "\n",
    "print(type(c))\n",
    "print(chr(c))\n",
    "float(c)"
   ]
  },
  {
   "source": [
    "## 练习\n",
    "### 1. 华氏温度转换摄氏温度 \n",
    "### 2. 输入圆的半径计算周长和面积\n",
    "### 3. 输入年份判断是不是闰年\n",
    "### 4. 判断一个数是否为素数  \n",
    "### 5. 计算gcd和lcm\n",
    "### 6. 打印三角图案\n",
    "### 7. 寻找水仙花数\n",
    "### 8. 寻找完美数\n",
    "### 9. “百钱百鸡”问题\n",
    "### 10. 生成斐波那契数列\n",
    "### 11. Craps赌博游戏\n"
   ],
   "cell_type": "markdown",
   "metadata": {}
  },
  {
   "cell_type": "code",
   "execution_count": 26,
   "metadata": {},
   "outputs": [
    {
     "output_type": "stream",
     "name": "stdout",
     "text": [
      "The C Temperature is 14.4\n"
     ]
    }
   ],
   "source": [
    "\"\"\"\n",
    "华氏温度转摄氏温度\n",
    "F = 1.8C + 32\n",
    "\"\"\"\n",
    "f = float(input(\"Please enter the F Temperature: \"))\n",
    "C = (f - 32)/1.8\n",
    "print(\"The C Temperature is %.1f\" % (C))"
   ]
  },
  {
   "cell_type": "code",
   "execution_count": 27,
   "metadata": {},
   "outputs": [
    {
     "output_type": "stream",
     "name": "stdout",
     "text": [
      "Perimeter: 31.42, Areas: 78.54\n"
     ]
    }
   ],
   "source": [
    "\"\"\"\n",
    "圆的半径计算周长和面积\n",
    "\"\"\"\n",
    "import math\n",
    "r = float(input(\"Please enter the radius: \"))\n",
    "perimeter = 2*math.pi*r\n",
    "area = math.pi*r**2\n",
    "print(\"Perimeter: %.2f, Areas: %.2f\" % (perimeter,area))"
   ]
  },
  {
   "cell_type": "code",
   "execution_count": 30,
   "metadata": {},
   "outputs": [
    {
     "output_type": "stream",
     "name": "stdout",
     "text": [
      "False\n"
     ]
    }
   ],
   "source": [
    "\"\"\"\n",
    "输入年份，判断闰年\n",
    "\"\"\"\n",
    "year=int(input(\"Please enter the year: \"))\n",
    "is_leap = (year % 4 == 0 and year % 100 != 0 or year % 400 == 0)\n",
    "print(is_leap)\n"
   ]
  },
  {
   "cell_type": "code",
   "execution_count": 1,
   "metadata": {},
   "outputs": [
    {
     "output_type": "stream",
     "name": "stdout",
     "text": [
      "D\n"
     ]
    }
   ],
   "source": [
    "\"\"\"\n",
    "百分制转换\n",
    "\"\"\"\n",
    "mark = int(input(\"Please enter your mark: \"))\n",
    "if mark >= 85:\n",
    "    print(\"A\")\n",
    "elif mark >= 70:\n",
    "    print(\"B\")\n",
    "elif mark >= 60:\n",
    "    print(\"C\")\n",
    "else:\n",
    "    print(\"D\")"
   ]
  },
  {
   "cell_type": "code",
   "execution_count": 4,
   "metadata": {},
   "outputs": [
    {
     "output_type": "stream",
     "name": "stdout",
     "text": [
      "2500\n"
     ]
    }
   ],
   "source": [
    "\"\"\"\n",
    "1-100内奇数求和\n",
    "\"\"\"\n",
    "sum = 0\n",
    "for x in range(1,101,2): #步长为2，不包含101\n",
    "    sum+=x\n",
    "print(sum)"
   ]
  },
  {
   "cell_type": "code",
   "execution_count": 3,
   "metadata": {},
   "outputs": [
    {
     "output_type": "stream",
     "name": "stdout",
     "text": [
      "2 is prime.\n"
     ]
    }
   ],
   "source": [
    "\"\"\"\n",
    "判断一个正整数是否为素数\n",
    "\"\"\"\n",
    "import math\n",
    "is_prime = True\n",
    "number = int(input(\"Please enter a number: \"))\n",
    "for i in range(2,int(math.sqrt(number)+1)):\n",
    "    if number % i == 0:\n",
    "        is_prime = False\n",
    "        break\n",
    "\n",
    "if is_prime and number !=1:\n",
    "    print(\"%d is prime.\" % (number))\n",
    "else:\n",
    "    print(\"%d is not prime.\" % (number))\n",
    "\n"
   ]
  },
  {
   "cell_type": "code",
   "execution_count": 5,
   "metadata": {},
   "outputs": [
    {
     "output_type": "stream",
     "name": "stdout",
     "text": [
      "更相减损法最大公约数：1\n辗转相除法最大公约数：1\n最小公倍数：105\n"
     ]
    }
   ],
   "source": [
    "\"\"\"\n",
    "求gcd和lcm\n",
    "gcd: 更相减损法\n",
    "\"\"\"\n",
    "a = int(input(\"first numebr: \"))\n",
    "b = int(input(\"second numebr: \"))\n",
    "#gcd: 更相减损法\n",
    "def max_gcd1(x,y):\n",
    "    while True:\n",
    "        if x > y:\n",
    "            x -= y\n",
    "        elif x < y:\n",
    "            y -= x\n",
    "        else:\n",
    "            return x\n",
    "print(\"更相减损法最大公约数：%d\"%(max_gcd1(a,b)))\n",
    "#辗转相除法\n",
    "def min(a,b):\n",
    "    if a>b:\n",
    "        return b\n",
    "    else:\n",
    "        return a\n",
    "def max_gcd2(x,y):\n",
    "    while True:\n",
    "        if x > y and x % y !=0:\n",
    "            x %= y\n",
    "        elif x < y and y % x !=0:\n",
    "            y %= x\n",
    "        else:\n",
    "            return min(x,y)\n",
    "\n",
    "print(\"辗转相除法最大公约数：%d\"%(max_gcd2(a,b)))\n",
    "\n",
    "#递归（结合辗转相除和更相减损）移位\n",
    "\n",
    "print(\"最小公倍数：%d\" % (a*b/max_gcd1(a,b)))"
   ]
  },
  {
   "cell_type": "code",
   "execution_count": 13,
   "metadata": {},
   "outputs": [
    {
     "output_type": "stream",
     "name": "stdout",
     "text": [
      "*\n**\n***\n****\n*****\n    *\n   **\n  ***\n ****\n*****\n    *\n   ***\n  *****\n *******\n*********\n"
     ]
    }
   ],
   "source": [
    "\"\"\"\n",
    "打印三角图案\n",
    "\"\"\"\n",
    "row = int(input(\"please enter the rows: \"))\n",
    "for i in range(row):\n",
    "    for j in range(i+1):\n",
    "        print(\"*\", end='') #默认end的参数为/n换行\n",
    "    print()\n",
    "\n",
    "for i in range(row):\n",
    "    for j in range(row):\n",
    "        if j < row - i -1:\n",
    "            print(\" \",end=\"\")\n",
    "        else:\n",
    "            print(\"*\",end=\"\")\n",
    "    print()\n",
    "\n",
    "for i in range(row):\n",
    "    for j in range(row-i-1):\n",
    "        print(\" \",end=\"\")\n",
    "    for k in range(2*i+1):\n",
    "        print(\"*\",end=\"\")\n",
    "    print()"
   ]
  },
  {
   "cell_type": "code",
   "execution_count": 2,
   "metadata": {},
   "outputs": [
    {
     "output_type": "stream",
     "name": "stdout",
     "text": [
      "153\n370\n371\n407\n"
     ]
    }
   ],
   "source": [
    "\"\"\"\n",
    "寻找水仙花数\n",
    "\"\"\"\n",
    "limit = int(input(\"enter a number: \"))\n",
    "\n",
    "def daffodils(x):\n",
    "    sum = 0\n",
    "    y=x\n",
    "    while(x>1):\n",
    "        sum = sum + (int(x) % 10)**3\n",
    "        x /= 10\n",
    "    if sum == y:\n",
    "        return True\n",
    "    else:\n",
    "        return False\n",
    "\n",
    "for x in range(1,limit):\n",
    "    if daffodils(x):\n",
    "       print(x)"
   ]
  },
  {
   "cell_type": "code",
   "execution_count": null,
   "metadata": {},
   "outputs": [],
   "source": [
    "\"\"\"\n",
    "寻找完美数\n",
    "\"\"\"\n",
    "limit = int(input(\"enter a number: \"))\n",
    "def perfect_number(x):\n",
    "    sum = 0\n",
    "    old = x\n",
    "    for i in range (1,int(x/2+1)):\n",
    "        if x % i == 0:\n",
    "            sum += i\n",
    "    if sum == old:\n",
    "        return True\n",
    "    else:\n",
    "        return False\n",
    "for x in range(1,limit):\n",
    "    if perfect_number(x):\n",
    "        print(x)\n"
   ]
  },
  {
   "cell_type": "code",
   "execution_count": 1,
   "metadata": {},
   "outputs": [
    {
     "output_type": "stream",
     "name": "stdout",
     "text": [
      "公鸡：0 母鸡：25 小鸡： 75\n公鸡：4 母鸡：18 小鸡： 78\n公鸡：8 母鸡：11 小鸡： 81\n公鸡：12 母鸡：4 小鸡： 84\n"
     ]
    }
   ],
   "source": [
    "\"\"\"\n",
    "百钱百鸡\n",
    "\"\"\"\n",
    "for x in range(20):\n",
    "    for y in range(33):\n",
    "        z = 100 - x - y\n",
    "        if 5 * x + 3 * y + z/3 == 100:\n",
    "            print(\"公鸡：%d 母鸡：%d 小鸡： %d\"% (x,y,z))\n"
   ]
  },
  {
   "cell_type": "code",
   "execution_count": 1,
   "metadata": {},
   "outputs": [
    {
     "output_type": "error",
     "ename": "NameError",
     "evalue": "name 'C' is not defined",
     "traceback": [
      "\u001b[0;31m---------------------------------------------------------------------------\u001b[0m",
      "\u001b[0;31mNameError\u001b[0m                                 Traceback (most recent call last)",
      "\u001b[0;32m<ipython-input-1-acb9ba321273>\u001b[0m in \u001b[0;36m<module>\u001b[0;34m\u001b[0m\n\u001b[1;32m      6\u001b[0m \u001b[0;34m\u001b[0m\u001b[0m\n\u001b[1;32m      7\u001b[0m \u001b[0mlimit\u001b[0m \u001b[0;34m=\u001b[0m \u001b[0mint\u001b[0m\u001b[0;34m(\u001b[0m\u001b[0minput\u001b[0m\u001b[0;34m(\u001b[0m\u001b[0;34m\"输出斐波那契数列中的个数: \"\u001b[0m\u001b[0;34m)\u001b[0m\u001b[0;34m)\u001b[0m\u001b[0;34m\u001b[0m\u001b[0;34m\u001b[0m\u001b[0m\n\u001b[0;32m----> 8\u001b[0;31m \u001b[0mprint\u001b[0m\u001b[0;34m(\u001b[0m\u001b[0mC\u001b[0m\u001b[0;34m,\u001b[0m\u001b[0mD\u001b[0m\u001b[0;34m)\u001b[0m\u001b[0;34m\u001b[0m\u001b[0;34m\u001b[0m\u001b[0m\n\u001b[0m\u001b[1;32m      9\u001b[0m \u001b[0;32mfor\u001b[0m \u001b[0mi\u001b[0m \u001b[0;32min\u001b[0m \u001b[0mrange\u001b[0m\u001b[0;34m(\u001b[0m\u001b[0mlimit\u001b[0m\u001b[0;34m)\u001b[0m\u001b[0;34m:\u001b[0m\u001b[0;34m\u001b[0m\u001b[0;34m\u001b[0m\u001b[0m\n\u001b[1;32m     10\u001b[0m     \u001b[0;34m(\u001b[0m\u001b[0ma\u001b[0m\u001b[0;34m,\u001b[0m\u001b[0mb\u001b[0m\u001b[0;34m)\u001b[0m \u001b[0;34m=\u001b[0m \u001b[0;34m(\u001b[0m\u001b[0mb\u001b[0m\u001b[0;34m,\u001b[0m \u001b[0ma\u001b[0m\u001b[0;34m+\u001b[0m\u001b[0mb\u001b[0m\u001b[0;34m)\u001b[0m  \u001b[0;31m#a=b,b=a+b\u001b[0m\u001b[0;34m\u001b[0m\u001b[0;34m\u001b[0m\u001b[0m\n",
      "\u001b[0;31mNameError\u001b[0m: name 'C' is not defined"
     ]
    }
   ],
   "source": [
    "\"\"\"\n",
    "生成斐波那契数列\n",
    "\"\"\"\n",
    "a=0\n",
    "b=1\n",
    "\n",
    "limit = int(input(\"输出斐波那契数列中的个数: \"))\n",
    "for i in range(limit):\n",
    "    (a,b) = (b, a+b)  #a=b,b=a+b\n",
    "    print(a,end=' ')\n"
   ]
  },
  {
   "cell_type": "code",
   "execution_count": 4,
   "metadata": {},
   "outputs": [
    {
     "output_type": "stream",
     "name": "stdout",
     "text": [
      "5\n"
     ]
    }
   ],
   "source": [
    "def fib(n):\n",
    "    if n <= 1:\n",
    "        return n\n",
    "    else:\n",
    "        return fib(n-1)+fin(n-2)\n",
    "\n"
   ]
  },
  {
   "cell_type": "code",
   "execution_count": 2,
   "metadata": {},
   "outputs": [
    {
     "output_type": "stream",
     "name": "stdout",
     "text": [
      "The  0 -th Fibonacci number is:  0\nThe  1 -th Fibonacci number is:  1\nThe  2 -th Fibonacci number is:  2\nThe  3 -th Fibonacci number is:  3\nThe  4 -th Fibonacci number is:  5\nThe  5 -th Fibonacci number is:  8\nThe  6 -th Fibonacci number is:  13\nThe  7 -th Fibonacci number is:  21\nThe  8 -th Fibonacci number is:  34\nThe  9 -th Fibonacci number is:  55\n"
     ]
    }
   ],
   "source": [
    "def fib(n):\n",
    "    a = 0\n",
    "    b = 1\n",
    "    if n <= 1:\n",
    "        return n\n",
    "    for i in range(n+1):\n",
    "        a,b = b,a+b\n",
    "    return a\n",
    "\n",
    "for n in range(10):\n",
    "    print('The ', n, '-th Fibonacci number is: ', fib(n))"
   ]
  },
  {
   "cell_type": "code",
   "execution_count": null,
   "metadata": {},
   "outputs": [],
   "source": []
  }
 ]
}