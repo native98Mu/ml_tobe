{
 "metadata": {
  "language_info": {
   "codemirror_mode": {
    "name": "ipython",
    "version": 3
   },
   "file_extension": ".py",
   "mimetype": "text/x-python",
   "name": "python",
   "nbconvert_exporter": "python",
   "pygments_lexer": "ipython3",
   "version": "3.8.5-final"
  },
  "orig_nbformat": 2,
  "kernelspec": {
   "name": "python385jvsc74a57bd0e5d5a545d47a452400ed0f023be4625769e773074f6a65de0103e9cc8585fc80",
   "display_name": "Python 3.8.5 64-bit ('paddle_quantum_env': conda)"
  }
 },
 "nbformat": 4,
 "nbformat_minor": 2,
 "cells": [
  {
   "source": [
    "# 线性系统求解\n",
    "Ax = b  \n",
    "$$A = c_0A_0+c_1A_1+c_2A_2=\\mathbb{I}+0.2X_0Z_1+0.2X_0$$\n",
    "$$|b\\rangle = U|0\\rangle = H_0H_1H_2|0\\rangle$$\n"
   ],
   "cell_type": "markdown",
   "metadata": {}
  },
  {
   "cell_type": "code",
   "execution_count": 563,
   "metadata": {},
   "outputs": [],
   "source": [
    "import numpy as np\n",
    "import matplotlib\n",
    "import paddle \n",
    "from paddle import matmul\n",
    "from paddle_quantum.circuit import UAnsatz\n",
    "from paddle_quantum.utils import random_pauli_str_generator, pauli_str_to_matrix, dagger\n",
    "#参数设置\n",
    "num_qubit = 3  \n",
    "num_shots = 10**6 # Number of quantum measurements\n",
    "tot_qubits = num_qubit+1 # Addition of an ancillary qubit\n",
    "ancilla_idx = num_qubit #Index of the ancillary qubit (last position)\n",
    "ITR = 40 #训练迭代次数\n",
    "LR = 0.5 #学习速率\n",
    "seed = 0 # Seed for random number generator\n",
    "#构造cz gate\n",
    "a= np.array([np.pi/2])\n",
    "cz_theta = paddle.to_tensor(a)\n",
    "#coefficient of A=c_0 A_0 + c_1 A_1 ...\n",
    "c = np.array([1,0.2,0.2])"
   ]
  },
  {
   "source": [
    "## 各门电路定义\n",
    "U操作: $U|0\\rangle = |b\\rangle$  \n",
    "\n",
    "A操作: $A = \\mathbb{I}+0.2X_0Z_1+0.2X_0$\n",
    "\n",
    "要训练的量子网络V $V|0\\rangle = |x\\rangle$"
   ],
   "cell_type": "markdown",
   "metadata": {}
  },
  {
   "cell_type": "code",
   "execution_count": 554,
   "metadata": {},
   "outputs": [],
   "source": [
    "#定义门电路U U|0> = |b>\n",
    "def U_b():\n",
    "    for idx in range(num_qubit):\n",
    "        cir.h(idx)\n",
    "# 定义受控酉矩阵\n",
    "def CA(idx):\n",
    "    if idx == 0:\n",
    "        # Identity operation\n",
    "        None\n",
    "    elif idx == 1:\n",
    "        cir.cnot([ancilla_idx,0])\n",
    "        #cz gate\n",
    "        cir.s(ancilla_idx)\n",
    "        cir.s(ancilla_idx)\n",
    "        cir.s(ancilla_idx)\n",
    "        cir.cnot([ancilla_idx,1])\n",
    "        cir.rz(cz_theta,1)\n",
    "        cir.cnot([ancilla_idx,1])\n",
    "        cir.rz(-cz_theta,1)\n",
    "    elif idx == 2:\n",
    "        cir.cnot([ancilla_idx,0])\n",
    "#定义变分量子电路 使得|x> = V|0>\n",
    "def variational_block(theta):\n",
    "    '''\n",
    "    QNN\n",
    "    '''\n",
    "    #第一层是给除附加位外所有量子比特施加h门\n",
    "    for idx in range(num_qubit):\n",
    "        cir.h(idx)\n",
    "    #单层的全y门\n",
    "    for idx, element in enumerate(theta):\n",
    "        cir.ry(element,idx)\n"
   ]
  },
  {
   "source": [
    "## hadamard test\n",
    "根据hadamard test电路要求，按顺序放好构建的门序列。  \n",
    "\n",
    "获取系统最终状态里附加位为$|0\\rangle$的概率（由于paddle_quantum中没有可以直接测量系统中某条电路状态的方法，故根据测量原理，构建投影算子M，计算辅助位为$|0\\rangle$概率）\n",
    "\n",
    "根据hadamard test算法，只需要对辅助比特进行计算基测量，测量得到结果为$|0\\rangle$的概率与两量子态内积有：$Re(\\langle\\phi_1|\\phi\\rangle = 2*p_0 -1$ 类似的，虚数部分需要添加相位变换s gate，相同的推导可以得到虚数部分$\\operatorname{Im}\\left(\\left\\langle\\phi_{1} \\mid \\phi_{2}\\right\\rangle\\right)=2 p_{0}-1$"
   ],
   "cell_type": "markdown",
   "metadata": {}
  },
  {
   "cell_type": "code",
   "execution_count": 555,
   "metadata": {},
   "outputs": [],
   "source": [
    "#hadamard test\n",
    "def local_hadamard_test(theta,l = None,lp=None,j = None,part = None):\n",
    "    #初始化电路\n",
    "    cir = UAnsatz(tot_qubits)#需要附加位\n",
    "    #作用在附加位上的H门\n",
    "    cir.h(ancilla_idx)\n",
    "    #如果要计算的是虚数部，附加位还需要加一个相位门\n",
    "    #phase gate\n",
    "    if part == 'Im' or part == 'im':\n",
    "        cir.s(ancilla_idx)\n",
    "    #生成一个向量｜x>\n",
    "    variational_block(theta)\n",
    "    #使用A_l\n",
    "    CA(l)\n",
    "    #添加U_b\n",
    "    U_b()\n",
    "    #添加受控z\n",
    "    if j != -1:\n",
    "        #cz gate\n",
    "        cir.s(ancilla_idx)\n",
    "        cir.s(ancilla_idx)\n",
    "        cir.s(ancilla_idx)\n",
    "        cir.cnot([ancilla_idx,j])\n",
    "        cir.rz(cz_theta,j)\n",
    "        cir.cnot([ancilla_idx,j])\n",
    "        cir.rz(-cz_theta,j)\n",
    "    #添加U\n",
    "    U_b()\n",
    "    #contralled gate为A的共轭转置\n",
    "    CA(lp)\n",
    "    #辅助位第二个hadamard门\n",
    "    cir.h(ancilla_idx)\n",
    "    #对辅助比特为｜0>进行观测\n",
    "    fi_state = cir.run_state_vector()\n",
    "    state = paddle.reshape(fi_state, shape=(2**tot_qubits, 1))\n",
    "    # print(state.shape)\n",
    "    M_0 = np.array([[1,0],[0,0]])\n",
    "    Id = np.identity(2)\n",
    "    M = np.kron(np.kron(Id,Id),Id)\n",
    "    M = np.kron(M,M_0)\n",
    "    M = paddle.to_tensor(M)\n",
    "    #计算辅助位｜0>的概率\n",
    "    M = paddle.matmul(dagger(M), M)\n",
    "    p0 = paddle.matmul(paddle.matmul(dagger(state), M), state) \n",
    "    p0 = p0.numpy().real\n",
    "    return p0*2 - 1\n",
    "\n",
    "\n",
    "    "
   ]
  },
  {
   "source": [
    "# local cost function计算\n",
    "根据论文中描述，可以知道局部cost function需使用hadamard test计算。$\\delta_{l l^{\\prime}}^{(j)}=\\left\\langle\\mathbf{0}\\left|V^{\\dagger} A_{l^{\\prime}}^{\\dagger} U\\left(\\left|0_{j}\\right\\rangle\\left\\langle 0_{j}\\right| \\otimes \\mathbb{I}_{\\bar{J}}\\right) U^{\\dagger} A_{l} V\\right| \\mathbf{0}\\right\\rangle$，其中$\\left|0_{j}\\right\\rangle\\left\\langle 0_{j}\\right|=\\left(\\mathbb{I}_{j},Z_j)/2\\right.$，所以有\n",
    "$\\delta_{l l^{\\prime}}^{(j)}=\\beta_{l l^{\\prime}}+\\left\\langle\\mathbf{0}\\left|V^{\\dagger} A_{l^{\\prime}}^{\\dagger} U\\left(Z_{j} \\otimes \\mathbb{I}_{\\bar{\\jmath}}\\right) U^{\\dagger} A_{l} V\\right| \\mathbf{0}\\right\\rangle$"
   ],
   "cell_type": "markdown",
   "metadata": {}
  },
  {
   "cell_type": "code",
   "execution_count": 556,
   "metadata": {},
   "outputs": [],
   "source": [
    "#计算local cost function的系数\n",
    "def mu(theta,l = None,lp=None,j=None):\n",
    "    mu_real = local_hadamard_test(theta,l = l,lp = lp,j = j,part='Re')\n",
    "    mu_imag = local_hadamard_test(theta,l = l, lp = lp, j = j, part= 'Im')\n",
    "    return mu_real + mu_imag * 1.0j"
   ]
  },
  {
   "source": [
    "## local cost function 计算\n",
    "首先对$\\langle x|A^{\\dagger}A|x\\rangle$的评估  \n",
    "接着利用hadamard test算得的mu，求和计算loss值"
   ],
   "cell_type": "markdown",
   "metadata": {}
  },
  {
   "cell_type": "code",
   "execution_count": 557,
   "metadata": {},
   "outputs": [],
   "source": [
    "# 归一化 先计算 <x|A'A|x>\n",
    "def psi_norm(theta):\n",
    "    '''Returns the normalization constant <psi|psi>, where |psi> = A |x>.'''\n",
    "    norm = 0\n",
    "    for l in range(len(c)):\n",
    "        for lp in range(len(c)):\n",
    "            norm = norm+c[l]*np.conj(c[lp])*mu(theta,l,lp,-1)\n",
    "            # norm = norm+c[l]*np.conj(c[lp])\n",
    "    return abs(norm)\n",
    "#计算cost function\n",
    "def local_cost(theta):\n",
    "    #当A｜x>和|b>同方向时，该值越接近0\n",
    "    mu_sum = 0\n",
    "    #\n",
    "    for l in range(0, len(c)):\n",
    "        for lp in range(0, len(c)):\n",
    "            for j in range(0, num_qubit):\n",
    "                mu_sum = mu_sum + c[l] * np.conj(c[lp]) * mu(theta, l, lp, j)\n",
    "\n",
    "    mu_sum = abs(mu_sum)\n",
    "    m1 = num_qubit * psi_norm(theta)\n",
    "    result = 0.5 - 0.5 * mu_sum / m1\n",
    "    # Cost function C_L\n",
    "    return result"
   ]
  },
  {
   "cell_type": "code",
   "execution_count": 559,
   "metadata": {},
   "outputs": [],
   "source": [
    "# theta = np.random.uniform(0,2*np.pi,num_qubit)\n",
    "# theta = paddle.to_tensor(theta)\n",
    "# norm = psi_norm(theta)\n",
    "# print(norm)\n",
    "# loss =local_cost(theta)\n",
    "# print('%.10f' %loss)"
   ]
  },
  {
   "source": [
    "## 优化--梯度下降\n",
    "利用adam优化器，对角度参数$theta$进行优化，使得loss值不断减小，即$V|0\\rangle - |b\\rangle$趋于0"
   ],
   "cell_type": "markdown",
   "metadata": {}
  },
  {
   "cell_type": "code",
   "execution_count": 560,
   "metadata": {},
   "outputs": [],
   "source": [
    "class vqlsOpt(paddle.nn.Layer):\n",
    "        # 初始化一个长度为theta_size的可学习参数列表，并用[0, 2*pi]的均匀分布来填充初始值\n",
    "    # def __init__(self):    \n",
    "        # self.theta = np.random.uniform(0,2*np.pi,num_qubit)\n",
    "    def __init__(self, shape, dtype='float64'):\n",
    "        super(vqlsOpt, self).__init__()\n",
    "        # 初始化 theta 参数列表，并用 [0, 2*pi] 的均匀分布来填充初始值\n",
    "        self.theta = self.create_parameter(shape=shape,default_initializer=paddle.nn.initializer.Uniform(low=0.0, high=2*np.pi), dtype=dtype, is_bias=False)\n",
    "    # 定义损失函数和前向传播机制\n",
    "    def forward(self):\n",
    "        #初始化电路\n",
    "        cir = UAnsatz(tot_qubits)#需要附加位\n",
    "        #计算损失函数\n",
    "        loss = local_cost(self.theta)\n",
    "        return loss"
   ]
  },
  {
   "source": [
    "## 迭代优化\n"
   ],
   "cell_type": "markdown",
   "metadata": {}
  },
  {
   "cell_type": "code",
   "execution_count": 572,
   "metadata": {},
   "outputs": [],
   "source": [
    "# 定义网络维度\n",
    "vqls = vqlsOpt(shape = [1])\n",
    "# 一般来说，我们利用Adam优化器来获得相对好的收敛，当然你可以改成SGD或者是RMS prop.\n",
    "opt = paddle.optimizer.Adam(learning_rate = LR, parameters = vqls.parameters())    \n",
    "# 优化循环\n",
    "for itr in range(1,ITR+1):\n",
    "    # 前向传播计算损失函数\n",
    "    loss = vqls()\n",
    "    # 反向传播极小化损失函数\n",
    "    loss.backward()\n",
    "    opt.minimize(loss)\n",
    "    opt.clear_grad()\n",
    "    if itr % 10 == 0:\n",
    "        print('iter:', itr, '  loss: %.7f' % loss.numpy())\n"
   ]
  },
  {
   "source": [
    "## 传统numpy方法计算\n",
    "$Ax=b$ 计算得到x的真实值 用于和量子方法进行对比"
   ],
   "cell_type": "markdown",
   "metadata": {}
  },
  {
   "cell_type": "code",
   "execution_count": 571,
   "metadata": {},
   "outputs": [
    {
     "output_type": "stream",
     "name": "stdout",
     "text": [
      "A = \n",
      " [[1.  0.  0.  0.  0.4 0.  0.  0. ]\n",
      " [0.  1.  0.  0.  0.  0.4 0.  0. ]\n",
      " [0.  0.  1.  0.  0.  0.  0.  0. ]\n",
      " [0.  0.  0.  1.  0.  0.  0.  0. ]\n",
      " [0.4 0.  0.  0.  1.  0.  0.  0. ]\n",
      " [0.  0.4 0.  0.  0.  1.  0.  0. ]\n",
      " [0.  0.  0.  0.  0.  0.  1.  0. ]\n",
      " [0.  0.  0.  0.  0.  0.  0.  1. ]]\n",
      "b = \n",
      " [0.35355339 0.35355339 0.35355339 0.35355339 0.35355339 0.35355339\n",
      " 0.35355339 0.35355339]\n",
      "x = \n",
      " [0.25253814 0.25253814 0.35355339 0.35355339 0.25253814 0.25253814\n",
      " 0.35355339 0.35355339]\n",
      "/usr/local/anaconda3/envs/paddle_quantum_env/lib/python3.7/site-packages/ipykernel/ipkernel.py:287: DeprecationWarning: `should_run_async` will not call `transform_cell` automatically in the future. Please pass the result to `transformed_cell` argument and any exception that happen during thetransform in `preprocessing_exc_tuple` in IPython 7.17 and above.\n",
      "  and should_run_async(code)\n"
     ]
    }
   ],
   "source": [
    "Id = np.identity(2)\n",
    "Z = np.array([[1, 0], [0, -1]])\n",
    "X = np.array([[0, 1], [1, 0]])\n",
    "\n",
    "A_0 = np.identity(8)\n",
    "A_1 = np.kron(np.kron(X, Z), Id)\n",
    "A_2 = np.kron(np.kron(X, Id), Id)\n",
    "\n",
    "A_num = c[0] * A_0 + c[1] * A_1 + c[2] * A_2\n",
    "b = np.ones(8) / np.sqrt(8)\n",
    "print(\"A = \\n\", A_num)\n",
    "print(\"b = \\n\", b)\n",
    "A_inv = np.linalg.inv(A_num)\n",
    "x_real = np.dot(A_inv, b)\n",
    "print('x = \\n',x_real)\n"
   ]
  },
  {
   "source": [
    "## 量子电路结果和经典结果比较\n",
    "获得优化器中最终的$theta$参数列表，重新初始化量子门电路$V$，带入参数$theta$，观察计算结果"
   ],
   "cell_type": "markdown",
   "metadata": {}
  },
  {
   "cell_type": "code",
   "execution_count": 549,
   "metadata": {},
   "outputs": [],
   "source": [
    "#验证\n",
    "import paddle\n",
    "from paddle_quantum.circuit import UAnsatz\n",
    "cir_test = UAnsatz(num_qubit)\n",
    "def prepare_x(theta):\n",
    "    variational_block(theta)\n",
    "    \n",
    "\n"
   ]
  },
  {
   "cell_type": "code",
   "execution_count": null,
   "metadata": {},
   "outputs": [],
   "source": []
  }
 ]
}